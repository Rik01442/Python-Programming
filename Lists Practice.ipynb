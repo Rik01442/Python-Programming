{
 "cells": [
  {
   "cell_type": "code",
   "execution_count": 11,
   "id": "4fdc3a52",
   "metadata": {},
   "outputs": [],
   "source": [
    "# List\n",
    "# List is a collection of items in a particular order.\n",
    "# Mutable\n",
    "# Ordered\n",
    "# Allows duplicates\n",
    "# Allows mixed data types"
   ]
  },
  {
   "cell_type": "code",
   "execution_count": 1,
   "id": "14f2bddc",
   "metadata": {},
   "outputs": [
    {
     "name": "stdout",
     "output_type": "stream",
     "text": [
      "10\n"
     ]
    }
   ],
   "source": [
    "mylist = [10,20,630]\n",
    "print(mylist[0]) # 10"
   ]
  },
  {
   "cell_type": "code",
   "execution_count": null,
   "id": "a2434eae",
   "metadata": {},
   "outputs": [],
   "source": [
    "# Update \n",
    "mylist = [10,20,630,\"hey\"]\n",
    "mylist[0] = 100 # updated the value\n",
    "print(mylist[0]) "
   ]
  },
  {
   "cell_type": "code",
   "execution_count": 3,
   "id": "94617721",
   "metadata": {},
   "outputs": [
    {
     "name": "stdout",
     "output_type": "stream",
     "text": [
      "['yash', 100, 20, 630, 'hey', 200]\n"
     ]
    }
   ],
   "source": [
    "# Append & Insert\n",
    "mylist = [10,20,630,\"hey\"]\n",
    "mylist[0] = 100\n",
    "mylist.append(200) # append a new value to the list\n",
    "mylist.insert(0,\"yash\") # no use\n",
    "print(mylist) "
   ]
  },
  {
   "cell_type": "code",
   "execution_count": 9,
   "id": "de693533",
   "metadata": {},
   "outputs": [
    {
     "name": "stdout",
     "output_type": "stream",
     "text": [
      "[10, 630]\n"
     ]
    }
   ],
   "source": [
    "mylist=[10,20,630,\"hey\"]\n",
    "x = mylist.pop() #delete last element and return it\n",
    "mylist.remove(20) # delete the first occurrence of 20\n",
    "print(mylist)"
   ]
  },
  {
   "cell_type": "code",
   "execution_count": 10,
   "id": "fa1a6db2",
   "metadata": {},
   "outputs": [
    {
     "name": "stdout",
     "output_type": "stream",
     "text": [
      "hey\n"
     ]
    }
   ],
   "source": [
    "print(x)"
   ]
  },
  {
   "cell_type": "code",
   "execution_count": 16,
   "id": "3d126190",
   "metadata": {},
   "outputs": [
    {
     "name": "stdout",
     "output_type": "stream",
     "text": [
      "10 0\n",
      "20 1\n",
      "40 2\n",
      "50 3\n"
     ]
    }
   ],
   "source": [
    "mylist = [10,20,40,50]\n",
    "for i in range(len(mylist)):\n",
    "    print(mylist[i], i) "
   ]
  },
  {
   "cell_type": "code",
   "execution_count": 20,
   "id": "7397a827",
   "metadata": {},
   "outputs": [
    {
     "name": "stdout",
     "output_type": "stream",
     "text": [
      "40\n"
     ]
    }
   ],
   "source": [
    "mylist = [10,20,40,50]\n",
    "print(mylist[2])"
   ]
  },
  {
   "cell_type": "code",
   "execution_count": 25,
   "id": "89747304",
   "metadata": {},
   "outputs": [
    {
     "name": "stdout",
     "output_type": "stream",
     "text": [
      "41\n",
      "23\n"
     ]
    }
   ],
   "source": [
    "mylist = [20,30,40,50,41,23]\n",
    "for i in mylist:\n",
    "    if i%2 != 0:\n",
    "        print(i)"
   ]
  },
  {
   "cell_type": "code",
   "execution_count": 46,
   "id": "0239d1f3",
   "metadata": {},
   "outputs": [
    {
     "name": "stdout",
     "output_type": "stream",
     "text": [
      "20\n",
      "nested 20 30\n",
      "nested 20 40\n",
      "nested 20 50\n",
      "nested 20 41\n",
      "nested 20 23\n",
      "30\n",
      "nested 30 40\n",
      "nested 30 50\n",
      "nested 30 41\n",
      "nested 30 23\n",
      "40\n",
      "nested 40 50\n",
      "nested 40 41\n",
      "nested 40 23\n",
      "50\n",
      "nested 50 41\n",
      "nested 50 23\n",
      "41\n",
      "nested 41 23\n",
      "23\n"
     ]
    }
   ],
   "source": [
    "# # Find the maximum value in a list\n",
    "# mylist = [20,30,40,50,41,23]\n",
    "# max1 = mylist[0]\n",
    "# for i in mylist:\n",
    "#     if i > max1:\n",
    "#         max1 = i\n",
    "# print(max1) \n",
    "\n",
    "# # Two pointer approach\n",
    "# mylist = [20,30,40,50,41,23]\n",
    "# for i in range(0,1):\n",
    "#     print(mylist[i])\n",
    "#     for j in range(1, len(mylist)):\n",
    "#         print(\"nested\", mylist[i], mylist[j])\n",
    "\n",
    "mylist = [20,30,40,50,41,23]\n",
    "for i in range(0,len(mylist)):\n",
    "    print(mylist[i])\n",
    "    for j in range(i+1, len(mylist)):\n",
    "        print(\"nested\", mylist[i], mylist[j])\n",
    "\n"
   ]
  },
  {
   "cell_type": "code",
   "execution_count": 2,
   "id": "8145c0f4",
   "metadata": {},
   "outputs": [],
   "source": [
    "# 2Sum problem\n"
   ]
  }
 ],
 "metadata": {
  "kernelspec": {
   "display_name": "base",
   "language": "python",
   "name": "python3"
  },
  "language_info": {
   "codemirror_mode": {
    "name": "ipython",
    "version": 3
   },
   "file_extension": ".py",
   "mimetype": "text/x-python",
   "name": "python",
   "nbconvert_exporter": "python",
   "pygments_lexer": "ipython3",
   "version": "3.12.7"
  }
 },
 "nbformat": 4,
 "nbformat_minor": 5
}
