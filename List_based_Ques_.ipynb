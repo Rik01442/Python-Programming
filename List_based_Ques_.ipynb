{
  "nbformat": 4,
  "nbformat_minor": 0,
  "metadata": {
    "colab": {
      "provenance": [],
      "include_colab_link": true
    },
    "kernelspec": {
      "name": "python3",
      "display_name": "Python 3"
    },
    "language_info": {
      "name": "python"
    }
  },
  "cells": [
    {
      "cell_type": "markdown",
      "metadata": {
        "id": "view-in-github",
        "colab_type": "text"
      },
      "source": [
        "<a href=\"https://colab.research.google.com/github/Rik01442/Python-Programming/blob/main/List_based_Ques_.ipynb\" target=\"_parent\"><img src=\"https://colab.research.google.com/assets/colab-badge.svg\" alt=\"Open In Colab\"/></a>"
      ]
    },
    {
      "cell_type": "code",
      "source": [
        "# Monotonic=> increasing and decresing order\n",
        "\n",
        "x=0\n",
        "list=[11,10,12,13]\n",
        "for index in range(1,len(list)):\n",
        "  if(list[index])>list[index-1]:\n",
        "    x=1\n",
        "    break\n",
        "if x==1:\n",
        "  print(\"not monotonic\")\n"
      ],
      "metadata": {
        "colab": {
          "base_uri": "https://localhost:8080/"
        },
        "id": "sg7I_SSluWz8",
        "outputId": "c41f318b-e2c4-4e56-af45-ed4382462f62"
      },
      "execution_count": null,
      "outputs": [
        {
          "output_type": "stream",
          "name": "stdout",
          "text": [
            "not monotonic\n"
          ]
        }
      ]
    },
    {
      "cell_type": "code",
      "source": [
        "x=0\n",
        "list=[11,10,9,8]\n",
        "for index in range(1,len(list)):\n",
        "  if(list[index])>list[index-1]:\n",
        "    x=1\n",
        "    break\n",
        "  elif (list[index])<list[index-1]:\n",
        "    x=0\n",
        "    break\n",
        "if x==1:\n",
        "  print(\"not monotonic\")\n",
        "else:\n",
        "  print(\"monotonic\")\n"
      ],
      "metadata": {
        "colab": {
          "base_uri": "https://localhost:8080/"
        },
        "id": "1hHKvQlKwn3c",
        "outputId": "1c52aec3-a4ab-41b6-9744-b0d962f8838c"
      },
      "execution_count": null,
      "outputs": [
        {
          "output_type": "stream",
          "name": "stdout",
          "text": [
            "monotonic\n"
          ]
        }
      ]
    },
    {
      "cell_type": "code",
      "source": [
        "x=0\n",
        "list=[1,2,3,4]\n",
        "for index in range(1,len(list)):\n",
        "  if(list[index])<list[index-1]:\n",
        "    x=1\n",
        "    break\n",
        "  elif (list[index])>list[index-1]:\n",
        "    x=0\n",
        "    break\n",
        "if x==1:\n",
        "  print(\"not monotonic\")\n",
        "else:\n",
        "  print(\"monotonic\")"
      ],
      "metadata": {
        "colab": {
          "base_uri": "https://localhost:8080/"
        },
        "id": "tMDb2Z_6yOVp",
        "outputId": "f3b4b2c4-bbd1-43b1-e78e-b3d4639a6da4"
      },
      "execution_count": null,
      "outputs": [
        {
          "output_type": "stream",
          "name": "stdout",
          "text": [
            "monotonic\n"
          ]
        }
      ]
    },
    {
      "cell_type": "code",
      "source": [
        "#disarium number 89=8**1 + 9**2\n",
        "num=int(input(\"Enter The Number :\"))\n",
        "temp=num\n",
        "a=temp\n",
        "sum=0\n",
        "count=0\n",
        "while num>0:\n",
        "  num=num//10\n",
        "  count+=1\n",
        "count\n",
        "while temp>0:\n",
        "  rem=temp%10\n",
        "  sum=sum+rem**count\n",
        "  temp=temp//10\n",
        "  count-=1\n",
        "if sum==a:\n",
        "  print(\"disarium number\")\n",
        "else:\n",
        "  print(\"not\")\n",
        "\n",
        "\n"
      ],
      "metadata": {
        "colab": {
          "base_uri": "https://localhost:8080/"
        },
        "id": "6ubIVEs8z1oZ",
        "outputId": "f158ab8e-cd92-4016-e337-218ee59045f7"
      },
      "execution_count": null,
      "outputs": [
        {
          "output_type": "stream",
          "name": "stdout",
          "text": [
            "Enter The Number :135\n",
            "disarium number\n"
          ]
        }
      ]
    },
    {
      "cell_type": "code",
      "source": [
        "#harshad number ==>\n",
        "num=int(input(\"enter the number :\"))\n",
        "temp=num\n",
        "sum=0\n",
        "while num>0:\n",
        "  rem=num%10\n",
        "  sum=sum+rem\n",
        "  num=num//10\n",
        "  div=temp%sum==0\n",
        "div"
      ],
      "metadata": {
        "colab": {
          "base_uri": "https://localhost:8080/"
        },
        "id": "M1uvAF_e3fpz",
        "outputId": "36e6261a-5591-4645-e9cf-f6cac52dcbee"
      },
      "execution_count": null,
      "outputs": [
        {
          "name": "stdout",
          "output_type": "stream",
          "text": [
            "enter the number :42\n"
          ]
        },
        {
          "output_type": "execute_result",
          "data": {
            "text/plain": [
              "True"
            ]
          },
          "metadata": {},
          "execution_count": 43
        }
      ]
    }
  ]
}