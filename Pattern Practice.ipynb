{
 "cells": [
  {
   "cell_type": "code",
   "execution_count": 1,
   "metadata": {},
   "outputs": [
    {
     "name": "stdout",
     "output_type": "stream",
     "text": [
      "0 0\n",
      "0 1\n",
      "0 2\n",
      "1 0\n",
      "1 1\n",
      "1 2\n",
      "2 0\n",
      "2 1\n",
      "2 2\n",
      "3 0\n",
      "3 1\n",
      "3 2\n"
     ]
    }
   ],
   "source": [
    "for i in range(4):\n",
    "    for j in range(3):\n",
    "        print(i, j)"
   ]
  },
  {
   "cell_type": "code",
   "execution_count": null,
   "metadata": {},
   "outputs": [],
   "source": [
    "# Nested Loop\n",
    "\n",
    "# Parent loop (3) ---> (0,1,2)\n",
    "# Child loop (2) ---> (0,1)\n",
    "\n",
    "# Step 1 i=0, j=0\n",
    "# Step 2 i=0, j=1\n",
    "\n",
    "# Step 3 i=1, j=0\n",
    "# Step 4 i=1, j=1\n",
    "\n",
    "# Step 5 i=2, j=0\n",
    "# Step 6 i=2, j=1"
   ]
  },
  {
   "cell_type": "code",
   "execution_count": null,
   "metadata": {},
   "outputs": [],
   "source": [
    "i = 4 , j = 3\n",
    "\n",
    "i = (0,1,2,3)\n",
    "j = (0,1,2)\n",
    "\n",
    "i ---> 0 ---> j = 0,1,2\n",
    "i ---> 1 ---> j = 0,1,2\n",
    "i ---> 2 ---> j = 0,1,2"
   ]
  },
  {
   "cell_type": "code",
   "execution_count": null,
   "metadata": {},
   "outputs": [],
   "source": [
    "n = int(input(\"Enter the number of rows: \"))\n",
    "for i in range(1, n+1):\n",
    "    print('*'*i)"
   ]
  },
  {
   "cell_type": "code",
   "execution_count": null,
   "metadata": {},
   "outputs": [],
   "source": [
    "# Step 1 for i in range(1,4): print(i)\n",
    "# 1*'*', 2*\"*\", 3*\"*\""
   ]
  },
  {
   "cell_type": "code",
   "execution_count": 2,
   "metadata": {},
   "outputs": [
    {
     "name": "stdout",
     "output_type": "stream",
     "text": [
      "-\n",
      "--\n",
      "---\n",
      "----\n"
     ]
    }
   ],
   "source": [
    "for i in range(1,5):\n",
    "    print(i*\"-\")"
   ]
  },
  {
   "cell_type": "code",
   "execution_count": 1,
   "metadata": {},
   "outputs": [
    {
     "name": "stdout",
     "output_type": "stream",
     "text": [
      "-----\n",
      "----\n",
      "---\n",
      "--\n",
      "-\n",
      "\n",
      "-\n",
      "--\n",
      "---\n",
      "----\n",
      "-----\n"
     ]
    }
   ],
   "source": [
    "for i in range(5,0,-1):\n",
    "    print(i*\"-\")\n",
    "for i in range(0,6):\n",
    "    print(i*\"-\")"
   ]
  },
  {
   "cell_type": "code",
   "execution_count": 5,
   "metadata": {},
   "outputs": [
    {
     "name": "stdout",
     "output_type": "stream",
     "text": [
      "-----\n",
      "-- -\n",
      "---\n",
      "--\n",
      "-\n"
     ]
    }
   ],
   "source": [
    "for i in range(5,0,-1):\n",
    "    if (i==4):\n",
    "        print(2*('-') + ' '+'-')\n",
    "    else:    \n",
    "        print(i*\"-\")"
   ]
  },
  {
   "cell_type": "code",
   "execution_count": 17,
   "metadata": {},
   "outputs": [
    {
     "name": "stdout",
     "output_type": "stream",
     "text": [
      "* \n",
      "* * \n",
      "*   * \n",
      "*     * \n",
      "* * * * * \n"
     ]
    }
   ],
   "source": [
    "for i in range(1,6):\n",
    "    for j in range(1,i+1):\n",
    "        if i==5 or j==1 or i==j:\n",
    "            print(\"*\", end=\" \")\n",
    "        else:\n",
    "            print(\" \", end=\" \")\n",
    "\n",
    "    print()"
   ]
  },
  {
   "cell_type": "code",
   "execution_count": null,
   "metadata": {},
   "outputs": [
    {
     "name": "stdout",
     "output_type": "stream",
     "text": [
      " * \n",
      " *  * \n",
      " *  *  * \n",
      " *  *  *  * \n",
      " *  *  *  *  * \n"
     ]
    }
   ],
   "source": [
    "n=5\n",
    "\n",
    "for i in range(1,6):\n",
    "    for j in range(1,i+1):\n",
    "            print(\"*\", end=\" \")\n",
    "\n",
    "    print()"
   ]
  },
  {
   "cell_type": "code",
   "execution_count": 6,
   "metadata": {},
   "outputs": [
    {
     "name": "stdout",
     "output_type": "stream",
     "text": [
      "  1 \n",
      "  1 2 \n",
      "  1 2 3 \n",
      "  1 2 3 4 \n",
      "  1 2 3 4 5 \n"
     ]
    }
   ],
   "source": [
    "num = 6\n",
    "for i in range(1,num):\n",
    "  x=1\n",
    "  for j in range(i,i+1):\n",
    "    print(\" \",end=\" \")\n",
    "  for k in range(1,i+1):\n",
    "    print(x,end=\" \")\n",
    "    x+=1\n",
    "  print()"
   ]
  },
  {
   "cell_type": "code",
   "execution_count": 7,
   "metadata": {},
   "outputs": [
    {
     "name": "stdout",
     "output_type": "stream",
     "text": [
      "1 \n",
      "1 2 \n",
      "1 2 3 \n",
      "1 2 3 4 \n",
      "1 2 3 4 5 \n"
     ]
    }
   ],
   "source": [
    "num = 5\n",
    "for i in range(1,num+1):\n",
    "  for j in range(1,i+1):\n",
    "    print(j,end=\" \")\n",
    "  print()"
   ]
  },
  {
   "cell_type": "code",
   "execution_count": 8,
   "metadata": {},
   "outputs": [
    {
     "name": "stdout",
     "output_type": "stream",
     "text": [
      "1 \n",
      "2 3 \n",
      "4 5 6 \n",
      "7 8 9 10 \n",
      "11 12 13 14 15 \n"
     ]
    }
   ],
   "source": [
    "n = 5\n",
    "num = 1\n",
    "for i in range(1,n+1):\n",
    "  for j in range(1,i+1):\n",
    "    print(num,end=\" \")\n",
    "    num+=1\n",
    "  print()"
   ]
  },
  {
   "cell_type": "code",
   "execution_count": null,
   "metadata": {},
   "outputs": [
    {
     "name": "stdout",
     "output_type": "stream",
     "text": [
      "* * * * * \n",
      "*       * \n",
      "*       * \n",
      "*       * \n",
      "* * * * * \n"
     ]
    }
   ],
   "source": [
    "for i in range(1,6):\n",
    "  for j in range(1,6):\n",
    "    if i==5 or j==5 or i==1 or j==1:\n",
    "      print(\"*\",end=\" \")\n",
    "    else:\n",
    "      print(\" \",end=\" \")\n",
    "  print()"
   ]
  },
  {
   "cell_type": "code",
   "execution_count": null,
   "metadata": {},
   "outputs": [
    {
     "name": "stdout",
     "output_type": "stream",
     "text": [
      "         1          \n",
      "        1 1         \n",
      "       1 2 1        \n",
      "      1 3 3 1       \n",
      "     1 4 6 4 1      \n"
     ]
    }
   ],
   "source": [
    "# Pascal Traingle\n",
    "def print_pascal_triangle(n):\n",
    "\n",
    "    triangle = [[1]]\n",
    "    \n",
    "    for i in range(1, n):\n",
    "        row = [1]\n",
    "        \n",
    "        for j in range(1, i):\n",
    "            row.append(triangle[i-1][j-1] + triangle[i-1][j])\n",
    "        \n",
    "        row.append(1)\n",
    "        \n",
    "        triangle.append(row)\n",
    "    \n",
    "    for row in triangle:\n",
    "        print(' '.join(map(str, row)).center(n * 4))\n",
    "\n",
    "print_pascal_triangle(5)"
   ]
  },
  {
   "cell_type": "code",
   "execution_count": 19,
   "metadata": {},
   "outputs": [
    {
     "name": "stdout",
     "output_type": "stream",
     "text": [
      "*                 * \n",
      "* *             * * \n",
      "* * *         * * * \n",
      "* * * *     * * * * \n",
      "* * * * * * * * * * \n",
      "* * * *     * * * * \n",
      "* * *         * * * \n",
      "* *             * * \n",
      "*                 * \n"
     ]
    }
   ],
   "source": [
    "n = 5 \n",
    "\n",
    "# Upper Half\n",
    "for i in range(1,n+1):\n",
    "    for j in range(1,i+1):\n",
    "        print(\"*\",end=\" \")\n",
    "    \n",
    "    for j in range(1,2*(n-i)+1):\n",
    "        print(\" \",end=\" \")\n",
    "    \n",
    "    for j in range(1,i+1):\n",
    "        print(\"*\",end=\" \")\n",
    "    \n",
    "    print()\n",
    "\n",
    "# Lower Half\n",
    "for i in range(n-1,0,-1):\n",
    "    for j in range(1,i+1):\n",
    "        print(\"*\",end=\" \")\n",
    "    \n",
    "    for j in range(1,2*(n-i)+1):\n",
    "        print(\" \",end=\" \")\n",
    "    \n",
    "    for j in range(1,i+1):\n",
    "        print(\"*\",end=\" \")\n",
    "    \n",
    "    print()"
   ]
  },
  {
   "cell_type": "code",
   "execution_count": null,
   "metadata": {},
   "outputs": [],
   "source": [
    "        "
   ]
  }
 ],
 "metadata": {
  "kernelspec": {
   "display_name": "base",
   "language": "python",
   "name": "python3"
  },
  "language_info": {
   "codemirror_mode": {
    "name": "ipython",
    "version": 3
   },
   "file_extension": ".py",
   "mimetype": "text/x-python",
   "name": "python",
   "nbconvert_exporter": "python",
   "pygments_lexer": "ipython3",
   "version": "3.12.7"
  }
 },
 "nbformat": 4,
 "nbformat_minor": 2
}
