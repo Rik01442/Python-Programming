{
 "cells": [
  {
   "cell_type": "code",
   "execution_count": null,
   "id": "322f1414",
   "metadata": {},
   "outputs": [],
   "source": [
    "# OOPS concepts\n",
    "# object oriented programming system\n",
    "# object => real time entity => characteristic and behaviour\n",
    "# object => instance of class.\n",
    "# class => blueprint of object"
   ]
  },
  {
   "cell_type": "code",
   "execution_count": 14,
   "id": "01e3003c",
   "metadata": {},
   "outputs": [],
   "source": [
    "class HouseDesign:\n",
    "    color = 'white'\n",
    "    room = 4\n",
    "    \n",
    "    def rent(self):\n",
    "        print(\"House will be for rent\")"
   ]
  },
  {
   "cell_type": "code",
   "execution_count": 15,
   "id": "69c4d863",
   "metadata": {},
   "outputs": [
    {
     "name": "stdout",
     "output_type": "stream",
     "text": [
      "white 4\n",
      "House will be for rent\n"
     ]
    }
   ],
   "source": [
    "h1 = HouseDesign()\n",
    "# h1 => object / instance\n",
    "print(h1.color, h1.room)\n",
    "h1.rent()"
   ]
  },
  {
   "cell_type": "code",
   "execution_count": 17,
   "id": "2320e68b",
   "metadata": {},
   "outputs": [
    {
     "name": "stdout",
     "output_type": "stream",
     "text": [
      "white\n",
      "new color: orange\n"
     ]
    }
   ],
   "source": [
    "h1=HouseDesign()\n",
    "print(h1.color)\n",
    "h1.color = \"orange\"\n",
    "print('new color:',h1.color)"
   ]
  },
  {
   "cell_type": "code",
   "execution_count": null,
   "id": "ee6e36fb",
   "metadata": {},
   "outputs": [
    {
     "name": "stdout",
     "output_type": "stream",
     "text": [
      "orange\n"
     ]
    }
   ],
   "source": [
    "HouseDesign.color = \"yellow\"\n",
    "print(h1.color)\n",
    "# Class variable = > color and room \n",
    "# when you make changes in the class the class variable also changes"
   ]
  },
  {
   "cell_type": "code",
   "execution_count": 23,
   "id": "f8a3a5c5",
   "metadata": {},
   "outputs": [
    {
     "name": "stdout",
     "output_type": "stream",
     "text": [
      "Constructor ko bulaya\n"
     ]
    },
    {
     "data": {
      "text/plain": [
       "<__main__.HouseDesign at 0x15dc339cdd0>"
      ]
     },
     "execution_count": 23,
     "metadata": {},
     "output_type": "execute_result"
    }
   ],
   "source": [
    "# Constructor => function\n",
    "# It is used to initialize memory of an object\n",
    "# Default and parametrized\n",
    "class HouseDesign:\n",
    "    def __init__(self):\n",
    "        print(\"Constructor ko bulaya\")\n",
    "\n",
    "HouseDesign()"
   ]
  },
  {
   "cell_type": "code",
   "execution_count": 24,
   "id": "78f8a360",
   "metadata": {},
   "outputs": [
    {
     "name": "stdout",
     "output_type": "stream",
     "text": [
      "Constructor ko bulaya\n",
      "h1 => <__main__.HouseDesign object at 0x0000015DC33A8DA0>\n"
     ]
    }
   ],
   "source": [
    "h1 = HouseDesign()\n",
    "print(\"h1 =>\",h1)"
   ]
  },
  {
   "cell_type": "code",
   "execution_count": 53,
   "id": "fb5b51ee",
   "metadata": {},
   "outputs": [],
   "source": [
    "# Self is a variable that access the current object reference\n",
    "class HouseDesign:\n",
    "    def __init__(self,x,y):\n",
    "        self.color = x\n",
    "        self.room = y\n",
    "\n",
    "    def info(self):\n",
    "        print(f\"Color: {self.color}, room: {self.room}\")\n"
   ]
  },
  {
   "cell_type": "code",
   "execution_count": 55,
   "id": "298e36e1",
   "metadata": {},
   "outputs": [
    {
     "name": "stdout",
     "output_type": "stream",
     "text": [
      "Color: yellow, room: 5\n"
     ]
    }
   ],
   "source": [
    "h1 = HouseDesign(\"yellow\", 5)\n",
    "h1.info()"
   ]
  },
  {
   "cell_type": "code",
   "execution_count": null,
   "id": "172e8191",
   "metadata": {},
   "outputs": [
    {
     "name": "stdout",
     "output_type": "stream",
     "text": [
      "Color: yellow, room: 5\n"
     ]
    }
   ],
   "source": [
    "h2 = HouseDesign(\"green\", 3)\n",
    "h1.info()"
   ]
  },
  {
   "cell_type": "code",
   "execution_count": null,
   "id": "555f4908",
   "metadata": {},
   "outputs": [],
   "source": []
  }
 ],
 "metadata": {
  "kernelspec": {
   "display_name": "Python 3",
   "language": "python",
   "name": "python3"
  },
  "language_info": {
   "codemirror_mode": {
    "name": "ipython",
    "version": 3
   },
   "file_extension": ".py",
   "mimetype": "text/x-python",
   "name": "python",
   "nbconvert_exporter": "python",
   "pygments_lexer": "ipython3",
   "version": "3.12.4"
  }
 },
 "nbformat": 4,
 "nbformat_minor": 5
}
