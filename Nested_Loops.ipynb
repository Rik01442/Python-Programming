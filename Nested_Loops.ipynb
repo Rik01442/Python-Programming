{
  "nbformat": 4,
  "nbformat_minor": 0,
  "metadata": {
    "colab": {
      "provenance": [],
      "authorship_tag": "ABX9TyNPY07uHxhmBcx30CMEKUvz",
      "include_colab_link": true
    },
    "kernelspec": {
      "name": "python3",
      "display_name": "Python 3"
    },
    "language_info": {
      "name": "python"
    }
  },
  "cells": [
    {
      "cell_type": "markdown",
      "metadata": {
        "id": "view-in-github",
        "colab_type": "text"
      },
      "source": [
        "<a href=\"https://colab.research.google.com/github/Rik01442/Python-Programming/blob/main/Nested_Loops.ipynb\" target=\"_parent\"><img src=\"https://colab.research.google.com/assets/colab-badge.svg\" alt=\"Open In Colab\"/></a>"
      ]
    },
    {
      "cell_type": "code",
      "execution_count": null,
      "metadata": {
        "colab": {
          "base_uri": "https://localhost:8080/"
        },
        "id": "YpVUo5n3TjEv",
        "outputId": "20f2b25b-69c3-4531-92d1-77c2024451f5"
      },
      "outputs": [
        {
          "output_type": "stream",
          "name": "stdout",
          "text": [
            "student 1\n",
            "subject =>> 5\n",
            "subject =>> 4\n",
            "subject =>> 3\n",
            "subject =>> 2\n",
            "subject =>> 1\n",
            "student 2\n",
            "subject =>> 5\n",
            "subject =>> 4\n",
            "subject =>> 3\n",
            "subject =>> 2\n",
            "subject =>> 1\n",
            "student 3\n",
            "subject =>> 5\n",
            "subject =>> 4\n",
            "subject =>> 3\n",
            "subject =>> 2\n",
            "subject =>> 1\n",
            "student 4\n",
            "subject =>> 5\n",
            "subject =>> 4\n",
            "subject =>> 3\n",
            "subject =>> 2\n",
            "subject =>> 1\n",
            "student 5\n",
            "subject =>> 5\n",
            "subject =>> 4\n",
            "subject =>> 3\n",
            "subject =>> 2\n",
            "subject =>> 1\n",
            "student 6\n",
            "subject =>> 5\n",
            "subject =>> 4\n",
            "subject =>> 3\n",
            "subject =>> 2\n",
            "subject =>> 1\n"
          ]
        }
      ],
      "source": [
        "# nested loops\n",
        "for i in range(1,7):\n",
        "  print(\"student\", i)\n",
        "  for j in range(5,0,-1):\n",
        "    print(\"subject =>>\", j)"
      ]
    },
    {
      "cell_type": "code",
      "source": [
        "for i in range(1,7):\n",
        "  print(\"student\", i)\n",
        "  for j in range(1,i+1):\n",
        "    print(\"subject =>>\", j)"
      ],
      "metadata": {
        "colab": {
          "base_uri": "https://localhost:8080/"
        },
        "id": "I_TTYaoPUqAa",
        "outputId": "817248a9-591f-40c2-bdb4-3de4853d17c8"
      },
      "execution_count": null,
      "outputs": [
        {
          "output_type": "stream",
          "name": "stdout",
          "text": [
            "student 1\n",
            "subject =>> 1\n",
            "student 2\n",
            "subject =>> 1\n",
            "subject =>> 2\n",
            "student 3\n",
            "subject =>> 1\n",
            "subject =>> 2\n",
            "subject =>> 3\n",
            "student 4\n",
            "subject =>> 1\n",
            "subject =>> 2\n",
            "subject =>> 3\n",
            "subject =>> 4\n",
            "student 5\n",
            "subject =>> 1\n",
            "subject =>> 2\n",
            "subject =>> 3\n",
            "subject =>> 4\n",
            "subject =>> 5\n",
            "student 6\n",
            "subject =>> 1\n",
            "subject =>> 2\n",
            "subject =>> 3\n",
            "subject =>> 4\n",
            "subject =>> 5\n",
            "subject =>> 6\n"
          ]
        }
      ]
    },
    {
      "cell_type": "code",
      "source": [
        "for i in range(1,7):\n",
        "  print(\"student\", i)\n",
        "  for j in range(0,7-i):\n",
        "    print(\"subject =>>\", j)"
      ],
      "metadata": {
        "colab": {
          "base_uri": "https://localhost:8080/"
        },
        "id": "Q0hKDiIFWlqz",
        "outputId": "d1f4bd8f-aa2d-41b3-d2c2-37c9c47ae463"
      },
      "execution_count": null,
      "outputs": [
        {
          "output_type": "stream",
          "name": "stdout",
          "text": [
            "student 1\n",
            "subject =>> 1\n",
            "subject =>> 2\n",
            "subject =>> 3\n",
            "subject =>> 4\n",
            "subject =>> 5\n",
            "subject =>> 6\n",
            "student 2\n",
            "subject =>> 2\n",
            "subject =>> 3\n",
            "subject =>> 4\n",
            "subject =>> 5\n",
            "subject =>> 6\n",
            "student 3\n",
            "subject =>> 3\n",
            "subject =>> 4\n",
            "subject =>> 5\n",
            "subject =>> 6\n",
            "student 4\n",
            "subject =>> 4\n",
            "subject =>> 5\n",
            "subject =>> 6\n",
            "student 5\n",
            "subject =>> 5\n",
            "subject =>> 6\n",
            "student 6\n",
            "subject =>> 6\n"
          ]
        }
      ]
    },
    {
      "cell_type": "code",
      "source": [
        "for i in range(1,7):\n",
        "  print(\"student\", i)\n",
        "  for j in range(i,7):\n",
        "    print(\"subject =>>\", j)"
      ],
      "metadata": {
        "colab": {
          "base_uri": "https://localhost:8080/"
        },
        "id": "9wmggSEaXhBW",
        "outputId": "e3c2a9fd-ddb7-4e4f-c965-c03da6ef7419"
      },
      "execution_count": null,
      "outputs": [
        {
          "output_type": "stream",
          "name": "stdout",
          "text": [
            "student 1\n",
            "subject =>> 1\n",
            "subject =>> 2\n",
            "subject =>> 3\n",
            "subject =>> 4\n",
            "subject =>> 5\n",
            "subject =>> 6\n",
            "student 2\n",
            "subject =>> 2\n",
            "subject =>> 3\n",
            "subject =>> 4\n",
            "subject =>> 5\n",
            "subject =>> 6\n",
            "student 3\n",
            "subject =>> 3\n",
            "subject =>> 4\n",
            "subject =>> 5\n",
            "subject =>> 6\n",
            "student 4\n",
            "subject =>> 4\n",
            "subject =>> 5\n",
            "subject =>> 6\n",
            "student 5\n",
            "subject =>> 5\n",
            "subject =>> 6\n",
            "student 6\n",
            "subject =>> 6\n"
          ]
        }
      ]
    },
    {
      "cell_type": "code",
      "source": [
        "for i in range(7,0,-1):\n",
        "  print(\"student\", i)\n",
        "  for j in range(i,0,-i):\n",
        "    print(\"subject =>>\", j)"
      ],
      "metadata": {
        "colab": {
          "base_uri": "https://localhost:8080/"
        },
        "id": "l_HOaTFJXrMe",
        "outputId": "cf249b0e-bfc5-4459-9a02-6398ebf3b025"
      },
      "execution_count": null,
      "outputs": [
        {
          "output_type": "stream",
          "name": "stdout",
          "text": [
            "student 7\n",
            "subject =>> 7\n",
            "student 6\n",
            "subject =>> 6\n",
            "student 5\n",
            "subject =>> 5\n",
            "student 4\n",
            "subject =>> 4\n",
            "student 3\n",
            "subject =>> 3\n",
            "student 2\n",
            "subject =>> 2\n",
            "student 1\n",
            "subject =>> 1\n"
          ]
        }
      ]
    },
    {
      "cell_type": "code",
      "source": [
        "# Patterns\n",
        "\n",
        "for i in range(0,4):\n",
        "  for j in range(0,4):\n",
        "    print(\"*\",end=\" \")\n",
        "  print()"
      ],
      "metadata": {
        "colab": {
          "base_uri": "https://localhost:8080/"
        },
        "id": "FnIZ34BGanWb",
        "outputId": "f27ff696-f1e5-4fa0-ef8e-ad239db4f5ee"
      },
      "execution_count": null,
      "outputs": [
        {
          "output_type": "stream",
          "name": "stdout",
          "text": [
            "* * * * \n",
            "* * * * \n",
            "* * * * \n",
            "* * * * \n"
          ]
        }
      ]
    },
    {
      "cell_type": "code",
      "source": [
        "for i in range(0,4):\n",
        "  for j in range(0,i+1):\n",
        "    print(\"*\",end=\" \")\n",
        "  print()\n",
        "\n",
        "for i in range(5,0,-1):\n",
        "  for j in range(i-1,5):\n",
        "    print(\"*\",end=\" \")\n",
        "  print()"
      ],
      "metadata": {
        "colab": {
          "base_uri": "https://localhost:8080/"
        },
        "id": "tIOR8bW7a7uF",
        "outputId": "468a549b-e2ae-4c29-85ba-09fc7a5ccfda"
      },
      "execution_count": null,
      "outputs": [
        {
          "output_type": "stream",
          "name": "stdout",
          "text": [
            "* \n",
            "* * \n",
            "* * * \n",
            "* * * * \n",
            "* \n",
            "* * \n",
            "* * * \n",
            "* * * * \n",
            "* * * * * \n"
          ]
        }
      ]
    },
    {
      "cell_type": "code",
      "source": [
        "for i in range(5,0,-1):\n",
        "  for j in range(1,i+1):\n",
        "    print(\"*\",end=\" \")\n",
        "  print()"
      ],
      "metadata": {
        "colab": {
          "base_uri": "https://localhost:8080/"
        },
        "id": "WWSIec1FbVBY",
        "outputId": "b25cf6ab-080f-487a-cff0-7a8b9ad7f0e4"
      },
      "execution_count": null,
      "outputs": [
        {
          "output_type": "stream",
          "name": "stdout",
          "text": [
            "* * * * * \n",
            "* * * * \n",
            "* * * \n",
            "* * \n",
            "* \n"
          ]
        }
      ]
    },
    {
      "cell_type": "code",
      "source": [
        "for i in range(1,4):\n",
        "  for j in range(1,5):\n",
        "    print(i,end=\" \")\n",
        "  print()"
      ],
      "metadata": {
        "colab": {
          "base_uri": "https://localhost:8080/"
        },
        "id": "3pJ__XRSdBiN",
        "outputId": "89dd092f-b3b4-4cb3-c0dc-9b6edf053f95"
      },
      "execution_count": null,
      "outputs": [
        {
          "output_type": "stream",
          "name": "stdout",
          "text": [
            "1 1 1 1 \n",
            "2 2 2 2 \n",
            "3 3 3 3 \n"
          ]
        }
      ]
    },
    {
      "cell_type": "code",
      "source": [
        "for i in range(4,1,-1):\n",
        "  for j in range(1,5):\n",
        "    print(i,end=\" \")\n",
        "  print()"
      ],
      "metadata": {
        "colab": {
          "base_uri": "https://localhost:8080/"
        },
        "id": "pAdX63DMefU4",
        "outputId": "49262a1e-80a4-4221-cd73-87e9490f2128"
      },
      "execution_count": null,
      "outputs": [
        {
          "output_type": "stream",
          "name": "stdout",
          "text": [
            "4 4 4 4 \n",
            "3 3 3 3 \n",
            "2 2 2 2 \n"
          ]
        }
      ]
    },
    {
      "cell_type": "code",
      "source": [
        "for i in range(4,7):\n",
        "  for j in range(1,5):\n",
        "    print(i,end=\" \")\n",
        "  print()"
      ],
      "metadata": {
        "colab": {
          "base_uri": "https://localhost:8080/"
        },
        "id": "6EVA1SToerVQ",
        "outputId": "91e57bd9-7e6d-46b3-e613-fcd4d6063e33"
      },
      "execution_count": null,
      "outputs": [
        {
          "output_type": "stream",
          "name": "stdout",
          "text": [
            "4 4 4 4 \n",
            "5 5 5 5 \n",
            "6 6 6 6 \n"
          ]
        }
      ]
    },
    {
      "cell_type": "code",
      "source": [
        "num=4\n",
        "for i in range(1,3):\n",
        "  for j in range(4,8):\n",
        "    print(num, end=\" \")\n",
        "    num+=1\n",
        "  print()"
      ],
      "metadata": {
        "colab": {
          "base_uri": "https://localhost:8080/"
        },
        "id": "LBprB_zKev-m",
        "outputId": "13252b01-8861-43ed-fbc2-21e615e5e777"
      },
      "execution_count": null,
      "outputs": [
        {
          "output_type": "stream",
          "name": "stdout",
          "text": [
            "4 5 6 7 \n",
            "8 9 10 11 \n"
          ]
        }
      ]
    },
    {
      "cell_type": "code",
      "source": [
        "for i in range(1,4):\n",
        "  for j in range(1,5):\n",
        "    print(j, end=\" \")\n",
        "  print()"
      ],
      "metadata": {
        "colab": {
          "base_uri": "https://localhost:8080/"
        },
        "id": "81EPRgt2nH3L",
        "outputId": "442e77e7-a308-4151-c5eb-83aa294583fa"
      },
      "execution_count": null,
      "outputs": [
        {
          "output_type": "stream",
          "name": "stdout",
          "text": [
            "1 2 3 4 \n",
            "1 2 3 4 \n",
            "1 2 3 4 \n"
          ]
        }
      ]
    },
    {
      "cell_type": "code",
      "source": [
        "for i in range(1,4):\n",
        "  for j in range(1,4):\n",
        "    print(chr(65+i-1), end=\" \")\n",
        "  print()"
      ],
      "metadata": {
        "colab": {
          "base_uri": "https://localhost:8080/"
        },
        "id": "RhJWTxennU7N",
        "outputId": "2ec18d66-ea90-42ee-dd7e-27fa37beab78"
      },
      "execution_count": null,
      "outputs": [
        {
          "output_type": "stream",
          "name": "stdout",
          "text": [
            "A A A \n",
            "B B B \n",
            "C C C \n"
          ]
        }
      ]
    },
    {
      "cell_type": "code",
      "source": [
        "for i in range(1,3):\n",
        "  for j in range(1,4):\n",
        "    print(chr(68+i-1), end=\" \")\n",
        "  print()"
      ],
      "metadata": {
        "colab": {
          "base_uri": "https://localhost:8080/"
        },
        "id": "ilc2VgQdoZgG",
        "outputId": "001b468f-6ba0-4d97-8b97-ba24d646b4b1"
      },
      "execution_count": null,
      "outputs": [
        {
          "output_type": "stream",
          "name": "stdout",
          "text": [
            "D D D \n",
            "E E E \n"
          ]
        }
      ]
    },
    {
      "cell_type": "code",
      "source": [
        "ch=65\n",
        "for i in range(1,4):\n",
        "  for j in range(1,4):\n",
        "    print(chr(ch), end=\" \")\n",
        "    ch+=1\n",
        "  print()"
      ],
      "metadata": {
        "colab": {
          "base_uri": "https://localhost:8080/"
        },
        "id": "bUwcNW_gok49",
        "outputId": "46fa8531-e6b4-4983-91fd-d37fe24ebad0"
      },
      "execution_count": null,
      "outputs": [
        {
          "output_type": "stream",
          "name": "stdout",
          "text": [
            "A B C \n",
            "D E F \n",
            "G H I \n"
          ]
        }
      ]
    }
  ]
}