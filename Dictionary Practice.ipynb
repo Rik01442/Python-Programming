{
 "cells": [
  {
   "cell_type": "code",
   "execution_count": 1,
   "id": "1496c8eb",
   "metadata": {},
   "outputs": [
    {
     "name": "stdout",
     "output_type": "stream",
     "text": [
      "{'userid': 10, 'name': 'aman'}\n"
     ]
    }
   ],
   "source": [
    "# Dictionary\n",
    "# key and value\n",
    "# key: unique, value\n",
    "# Mutable\n",
    "mydictionary = {\"userid\": 10, \"name\": \"aman\"}\n",
    "print(mydictionary)"
   ]
  },
  {
   "cell_type": "code",
   "execution_count": null,
   "id": "8c14a3bb",
   "metadata": {},
   "outputs": [
    {
     "ename": "SyntaxError",
     "evalue": "invalid syntax (1751890202.py, line 2)",
     "output_type": "error",
     "traceback": [
      "\u001b[1;36m  Cell \u001b[1;32mIn[9], line 2\u001b[1;36m\u001b[0m\n\u001b[1;33m    x = mydictionary.pop{\"age\"}\u001b[0m\n\u001b[1;37m                        ^\u001b[0m\n\u001b[1;31mSyntaxError\u001b[0m\u001b[1;31m:\u001b[0m invalid syntax\n"
     ]
    }
   ],
   "source": [
    "mydictionary1 = {\"userid\": 10, \"name\": \"aman\", \"age\": 20}\n",
    "x = mydictionary.pop[\"age\"]\n"
   ]
  },
  {
   "cell_type": "code",
   "execution_count": 7,
   "id": "4892628c",
   "metadata": {},
   "outputs": [
    {
     "name": "stdout",
     "output_type": "stream",
     "text": [
      "None\n"
     ]
    }
   ],
   "source": [
    "mydict = {\"userid\": 10, \"name\": \"aman\", \"salary\": 999}\n",
    "mydict = mydict.update({\"userid\":200,8000:\"isha\"})\n",
    "print(mydict)"
   ]
  },
  {
   "cell_type": "code",
   "execution_count": 11,
   "id": "e5121459",
   "metadata": {},
   "outputs": [
    {
     "data": {
      "text/plain": [
       "dict_keys(['userid', 'name', 'salary'])"
      ]
     },
     "execution_count": 11,
     "metadata": {},
     "output_type": "execute_result"
    }
   ],
   "source": [
    "mydict = {\"userid\": 10, \"name\": \"aman\", \"salary\": 999}\n",
    "mydict.keys()"
   ]
  },
  {
   "cell_type": "code",
   "execution_count": 12,
   "id": "aa26480c",
   "metadata": {},
   "outputs": [
    {
     "data": {
      "text/plain": [
       "dict_values([10, 'aman', 999])"
      ]
     },
     "execution_count": 12,
     "metadata": {},
     "output_type": "execute_result"
    }
   ],
   "source": [
    "mydict.values()\n"
   ]
  },
  {
   "cell_type": "code",
   "execution_count": 13,
   "id": "1b096750",
   "metadata": {},
   "outputs": [
    {
     "data": {
      "text/plain": [
       "dict_items([('userid', 10), ('name', 'aman'), ('salary', 999)])"
      ]
     },
     "execution_count": 13,
     "metadata": {},
     "output_type": "execute_result"
    }
   ],
   "source": [
    "mydict.items()"
   ]
  },
  {
   "cell_type": "code",
   "execution_count": 15,
   "id": "58c15e6f",
   "metadata": {},
   "outputs": [
    {
     "name": "stdout",
     "output_type": "stream",
     "text": [
      "('userid', 10)\n",
      "('name', 'aman')\n",
      "('salary', 999)\n"
     ]
    }
   ],
   "source": [
    "mylist= [('userid',10), ('name','aman'), ('salary',999)]\n",
    "for i in mylist:\n",
    "    print(i)"
   ]
  },
  {
   "cell_type": "code",
   "execution_count": 22,
   "id": "4a022af0",
   "metadata": {},
   "outputs": [
    {
     "name": "stdout",
     "output_type": "stream",
     "text": [
      "{1: 1, 2: 1, 3: 1, 4: 1, 5: 1, 6: 1, 7: 1, 8: 1, 9: 1, 10: 1, 11: 1, 12: 1, 13: 1, 14: 1, 15: 1, 16: 1, 17: 1, 18: 1, 19: 1, 20: 1, 21: 1, 22: 1, 23: 1, 24: 1, 25: 1, 26: 1, 27: 1, 28: 1, 29: 1, 30: 1, 31: 1, 32: 1, 33: 1, 34: 1, 35: 1, 36: 1, 37: 1, 38: 1, 39: 1, 40: 1, 41: 1, 42: 1, 43: 1, 44: 1, 45: 1, 46: 1, 47: 1, 48: 1, 49: 1}\n"
     ]
    }
   ],
   "source": [
    "dict1 = {}\n",
    "for i in range(1,50):\n",
    "    dict1[i] = 1\n",
    "print(dict1)"
   ]
  },
  {
   "cell_type": "code",
   "execution_count": 25,
   "id": "4eea5dc0",
   "metadata": {},
   "outputs": [
    {
     "name": "stdout",
     "output_type": "stream",
     "text": [
      "{3: 1, 1: 1, 2: 1, 4: 1}\n"
     ]
    }
   ],
   "source": [
    "dict1 = {3:100}\n",
    "for i in range(1,5):\n",
    "    dict1[i] = 1\n",
    "    if i not in dict1:\n",
    "        dict1[i] = 1\n",
    "print(dict1)"
   ]
  },
  {
   "cell_type": "code",
   "execution_count": 31,
   "id": "37ec2b62",
   "metadata": {},
   "outputs": [
    {
     "name": "stdout",
     "output_type": "stream",
     "text": [
      "{'count': 1}\n",
      "{'count': 2}\n",
      "{'count': 3}\n",
      "{'count': 4}\n",
      "{'count': 5}\n",
      "{'count': 6}\n",
      "{'count': 7}\n",
      "{'count': 8}\n",
      "{'count': 9}\n"
     ]
    }
   ],
   "source": [
    "mydict = {\"count\":0}\n",
    "for i in range(1,10):\n",
    "    mydict[\"count\"] += 1\n",
    "    print(mydict)"
   ]
  },
  {
   "cell_type": "code",
   "execution_count": 37,
   "id": "70a3ad54",
   "metadata": {},
   "outputs": [
    {
     "name": "stdout",
     "output_type": "stream",
     "text": [
      "{'t': 1, 'u': 1, 's': 1, 'h': 1, 'a': 1, 'r': 1}\n"
     ]
    }
   ],
   "source": [
    "s = \"tushar\"\n",
    "# {\"t\":1, \"u\":1, \"s\":1, \"h\":1, \"a\":1, \"r\":1}\n",
    "dict1 = {}\n",
    "for i in s:\n",
    "    dict1[i] = 1\n",
    "\n",
    "print(dict1)\n"
   ]
  },
  {
   "cell_type": "code",
   "execution_count": 41,
   "id": "9fe5e584",
   "metadata": {},
   "outputs": [
    {
     "name": "stdout",
     "output_type": "stream",
     "text": [
      "{'h': 6, 't': 1, 'u': 1, 's': 1, 'a': 1, 'r': 1}\n"
     ]
    }
   ],
   "source": [
    "s = \"tushar\"\n",
    "# {\"t\":1, \"u\":1, \"s\":1, \"h\":1, \"a\":1, \"r\":1}\n",
    "dict1 = {'h':5}\n",
    "for i in range(len(s)):\n",
    "    if s[i] not in dict1:\n",
    "        dict1[s[i]] = 1\n",
    "    else:\n",
    "        dict1[s[i]] += 1\n",
    "\n",
    "print(dict1)\n"
   ]
  },
  {
   "cell_type": "code",
   "execution_count": 49,
   "id": "87a49057",
   "metadata": {},
   "outputs": [
    {
     "name": "stdout",
     "output_type": "stream",
     "text": [
      "{'hey': 2, 'hello': 2, 'tushar': 3}\n"
     ]
    }
   ],
   "source": [
    "str1 = \"hey hello tushar hey tushar hello tushar\"\n",
    "dict1 = {}\n",
    "for i in str1.split():\n",
    "    if i not in dict1:\n",
    "        dict1[i] = 1\n",
    "    else:\n",
    "        dict1[i] += 1\n",
    "\n",
    "print(dict1)"
   ]
  },
  {
   "cell_type": "code",
   "execution_count": 50,
   "id": "705e1f2b",
   "metadata": {},
   "outputs": [
    {
     "name": "stdout",
     "output_type": "stream",
     "text": [
      "('hey', 2) <class 'tuple'> 2\n",
      "('hello', 2) <class 'tuple'> 2\n",
      "('tushar', 3) <class 'tuple'> 3\n"
     ]
    }
   ],
   "source": [
    "mydict = {'hey': 2, 'hello': 2, 'tushar': 3}\n",
    "for i in mydict.items():\n",
    "    print(i, type(i), i[1])"
   ]
  },
  {
   "cell_type": "code",
   "execution_count": 51,
   "id": "20ce4792",
   "metadata": {},
   "outputs": [
    {
     "name": "stdout",
     "output_type": "stream",
     "text": [
      "{10: 3, 20: 2, 30: 1}\n"
     ]
    }
   ],
   "source": [
    "# List1 = [10,20,30,10,10,20]\n",
    "# need to get the frequency of each number(how many times the number appears in the list)\n",
    "list1 = [10, 20, 30, 10, 10, 20]\n",
    "dict1 = {}\n",
    "for i in list1:\n",
    "    if i not in dict1:\n",
    "        dict1[i] = 1\n",
    "    else:\n",
    "        dict1[i] += 1\n",
    "print(dict1)\n"
   ]
  }
 ],
 "metadata": {
  "kernelspec": {
   "display_name": "base",
   "language": "python",
   "name": "python3"
  },
  "language_info": {
   "codemirror_mode": {
    "name": "ipython",
    "version": 3
   },
   "file_extension": ".py",
   "mimetype": "text/x-python",
   "name": "python",
   "nbconvert_exporter": "python",
   "pygments_lexer": "ipython3",
   "version": "3.12.7"
  }
 },
 "nbformat": 4,
 "nbformat_minor": 5
}
