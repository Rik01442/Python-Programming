{
 "cells": [
  {
   "cell_type": "code",
   "execution_count": 3,
   "metadata": {},
   "outputs": [
    {
     "name": "stdout",
     "output_type": "stream",
     "text": [
      "[99, 4, 10, 45, 20]\n",
      "[99, 45, 20, 10, 4]\n",
      "Second largest number is:  45\n"
     ]
    }
   ],
   "source": [
    "# Q1. Find the second largest number in a list.\n",
    "\n",
    "arr = [10, 20, 4, 45, 99, 99]\n",
    "# Remove duplicates and sort the list in descending order\n",
    "unique_arr = list(set(arr))\n",
    "print(unique_arr)\n",
    "unique_arr.sort(reverse=True)\n",
    "print(unique_arr)\n",
    "\n",
    "print(\"Second largest number is: \", unique_arr[1])"
   ]
  },
  {
   "cell_type": "code",
   "execution_count": 4,
   "metadata": {},
   "outputs": [
    {
     "name": "stdout",
     "output_type": "stream",
     "text": [
      "Palindrome\n"
     ]
    }
   ],
   "source": [
    "# Q2. Check if a list is Palindrome or not.\n",
    "\n",
    "arr = [1, 2, 3, 2, 1]\n",
    "\n",
    "if(arr==arr[::-1]):\n",
    "    print(\"Palindrome\")\n",
    "else:\n",
    "    print(\"Not Palindrome\")"
   ]
  },
  {
   "cell_type": "code",
   "execution_count": 3,
   "metadata": {},
   "outputs": [
    {
     "name": "stdout",
     "output_type": "stream",
     "text": [
      "{1: 2, 2: 2, 3: 1, 4: 1, 5: 4, 6: 1}\n",
      "Duplicate elements are:  [1, 2, 5]\n"
     ]
    }
   ],
   "source": [
    "# Q3. Find all Duplicate elements in a list.\n",
    "\n",
    "arr = [1, 2, 3, 2, 1, 4, 5, 6, 5, 5, 5]\n",
    "duplicates = []\n",
    "\n",
    "# Store count of each element in dictionary\n",
    "count_dict = {}\n",
    "\n",
    "for num in arr:\n",
    "    count_dict[num] = count_dict.get(num, 0) + 1\n",
    "print(count_dict)\n",
    "\n",
    "# Find elements that appear mor than once\n",
    "duplicates = [key for key, value in count_dict.items() if value > 1]\n",
    "\n",
    "print(\"Duplicate elements are: \", duplicates)"
   ]
  },
  {
   "cell_type": "code",
   "execution_count": 5,
   "metadata": {},
   "outputs": [
    {
     "name": "stdout",
     "output_type": "stream",
     "text": [
      "[4, 5, 1, 2, 3]\n"
     ]
    }
   ],
   "source": [
    "arr = [1,2,3,4,5]\n",
    "k=2\n",
    "# Rotate the list using slicing\n",
    "rotated_arr = arr[-k:] + arr[:-k]\n",
    "\n",
    "print(rotated_arr)"
   ]
  },
  {
   "cell_type": "code",
   "execution_count": 10,
   "metadata": {},
   "outputs": [
    {
     "name": "stdout",
     "output_type": "stream",
     "text": [
      "[4, 5]\n"
     ]
    }
   ],
   "source": [
    "# Q5. Find the intersection of two lists.\n",
    "# Using set intersection\n",
    "arr1 = [1, 2, 3, 4, 5]  \n",
    "arr2 = [4, 5, 6, 7, 8]\n",
    "intersection_arr = list(set(arr1) & set(arr2))\n",
    "print(intersection_arr)"
   ]
  },
  {
   "cell_type": "code",
   "execution_count": 11,
   "metadata": {},
   "outputs": [
    {
     "name": "stdout",
     "output_type": "stream",
     "text": [
      "Maximum element is:  33\n"
     ]
    }
   ],
   "source": [
    "# Q6. Find the Maximum Element in a list\n",
    "\n",
    "arr = [3, 4, 5, 1, 33, 2, 2, 1]\n",
    "max_element = arr[0]\n",
    "for num in arr:\n",
    "    if num > max_element:\n",
    "        max_element = num\n",
    "print(\"Maximum element is: \", max_element)"
   ]
  },
  {
   "cell_type": "code",
   "execution_count": null,
   "metadata": {},
   "outputs": [],
   "source": [
    "a = [1, 2, 3, 4, 5]\n",
    "a = []\n",
    "size = int(input(\"Enter the size of the list: \"))\n",
    "for i in range(size):\n",
    "    val = int(input(\"Enter the element: \"))\n",
    "    a.append(val)\n",
    "print(a)\n",
    "sum = 0\n",
    "for i in range(len(a)):\n",
    "    sum = sum + a[i]\n",
    "print(\"Sum of the elements in the list is: \", sum)"
   ]
  }
 ],
 "metadata": {
  "kernelspec": {
   "display_name": "base",
   "language": "python",
   "name": "python3"
  },
  "language_info": {
   "codemirror_mode": {
    "name": "ipython",
    "version": 3
   },
   "file_extension": ".py",
   "mimetype": "text/x-python",
   "name": "python",
   "nbconvert_exporter": "python",
   "pygments_lexer": "ipython3",
   "version": "3.12.7"
  }
 },
 "nbformat": 4,
 "nbformat_minor": 2
}
